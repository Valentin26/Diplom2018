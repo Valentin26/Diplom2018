{
 "cells": [
  {
   "cell_type": "code",
   "execution_count": 1,
   "metadata": {},
   "outputs": [
    {
     "name": "stderr",
     "output_type": "stream",
     "text": [
      "C:\\Users\\mvideo\\Snapshots\\lib\\site-packages\\h5py\\__init__.py:36: FutureWarning: Conversion of the second argument of issubdtype from `float` to `np.floating` is deprecated. In future, it will be treated as `np.float64 == np.dtype(float).type`.\n",
      "  from ._conv import register_converters as _register_converters\n",
      "Using TensorFlow backend.\n"
     ]
    }
   ],
   "source": [
    "import pandas as pd\n",
    "from matplotlib import pyplot as plt\n",
    "from sklearn import model_selection, datasets\n",
    "import numpy as np\n",
    "from sklearn.naive_bayes import GaussianNB\n",
    "import tensorflow as tf\n",
    "from keras.models import Sequential\n",
    "from keras.layers import Dense\n",
    "import xgboost"
   ]
  },
  {
   "cell_type": "code",
   "execution_count": 2,
   "metadata": {},
   "outputs": [
    {
     "data": {
      "text/html": [
       "<div>\n",
       "<style scoped>\n",
       "    .dataframe tbody tr th:only-of-type {\n",
       "        vertical-align: middle;\n",
       "    }\n",
       "\n",
       "    .dataframe tbody tr th {\n",
       "        vertical-align: top;\n",
       "    }\n",
       "\n",
       "    .dataframe thead th {\n",
       "        text-align: right;\n",
       "    }\n",
       "</style>\n",
       "<table border=\"1\" class=\"dataframe\">\n",
       "  <thead>\n",
       "    <tr style=\"text-align: right;\">\n",
       "      <th></th>\n",
       "      <th>x1</th>\n",
       "      <th>x2</th>\n",
       "      <th>x3</th>\n",
       "      <th>x4</th>\n",
       "      <th>x5</th>\n",
       "      <th>x6</th>\n",
       "      <th>x7</th>\n",
       "      <th>x8</th>\n",
       "      <th>x9</th>\n",
       "      <th>x10</th>\n",
       "      <th>y</th>\n",
       "    </tr>\n",
       "  </thead>\n",
       "  <tbody>\n",
       "    <tr>\n",
       "      <th>0</th>\n",
       "      <td>2045</td>\n",
       "      <td>1678</td>\n",
       "      <td>367</td>\n",
       "      <td>164</td>\n",
       "      <td>184</td>\n",
       "      <td>126</td>\n",
       "      <td>70</td>\n",
       "      <td>-22</td>\n",
       "      <td>59.95</td>\n",
       "      <td>63.66</td>\n",
       "      <td>75</td>\n",
       "    </tr>\n",
       "    <tr>\n",
       "      <th>1</th>\n",
       "      <td>1928</td>\n",
       "      <td>1508</td>\n",
       "      <td>420</td>\n",
       "      <td>182</td>\n",
       "      <td>221</td>\n",
       "      <td>92</td>\n",
       "      <td>63</td>\n",
       "      <td>-22</td>\n",
       "      <td>58.40</td>\n",
       "      <td>62.17</td>\n",
       "      <td>46</td>\n",
       "    </tr>\n",
       "    <tr>\n",
       "      <th>2</th>\n",
       "      <td>2099</td>\n",
       "      <td>1825</td>\n",
       "      <td>274</td>\n",
       "      <td>152</td>\n",
       "      <td>216</td>\n",
       "      <td>90</td>\n",
       "      <td>62</td>\n",
       "      <td>-22</td>\n",
       "      <td>58.10</td>\n",
       "      <td>62.05</td>\n",
       "      <td>-66</td>\n",
       "    </tr>\n",
       "    <tr>\n",
       "      <th>3</th>\n",
       "      <td>2530</td>\n",
       "      <td>2087</td>\n",
       "      <td>443</td>\n",
       "      <td>199</td>\n",
       "      <td>195</td>\n",
       "      <td>100</td>\n",
       "      <td>82</td>\n",
       "      <td>-24</td>\n",
       "      <td>56.43</td>\n",
       "      <td>60.42</td>\n",
       "      <td>67</td>\n",
       "    </tr>\n",
       "    <tr>\n",
       "      <th>4</th>\n",
       "      <td>2417</td>\n",
       "      <td>1915</td>\n",
       "      <td>502</td>\n",
       "      <td>195</td>\n",
       "      <td>252</td>\n",
       "      <td>87</td>\n",
       "      <td>54</td>\n",
       "      <td>-24</td>\n",
       "      <td>57.17</td>\n",
       "      <td>63.09</td>\n",
       "      <td>88</td>\n",
       "    </tr>\n",
       "  </tbody>\n",
       "</table>\n",
       "</div>"
      ],
      "text/plain": [
       "     x1    x2   x3   x4   x5   x6  x7  x8     x9    x10   y\n",
       "0  2045  1678  367  164  184  126  70 -22  59.95  63.66  75\n",
       "1  1928  1508  420  182  221   92  63 -22  58.40  62.17  46\n",
       "2  2099  1825  274  152  216   90  62 -22  58.10  62.05 -66\n",
       "3  2530  2087  443  199  195  100  82 -24  56.43  60.42  67\n",
       "4  2417  1915  502  195  252   87  54 -24  57.17  63.09  88"
      ]
     },
     "execution_count": 2,
     "metadata": {},
     "output_type": "execute_result"
    }
   ],
   "source": [
    "book_data = pd.read_csv('book.csv')\n",
    "book_data.head()"
   ]
  },
  {
   "cell_type": "code",
   "execution_count": 3,
   "metadata": {},
   "outputs": [],
   "source": [
    "book_data = book_data.dropna()"
   ]
  },
  {
   "cell_type": "code",
   "execution_count": 4,
   "metadata": {},
   "outputs": [],
   "source": [
    "X = np.array(book_data[['x1', 'x2', 'x3', 'x4', 'x5', 'x6', 'x7', 'x8', 'x9', 'x10']].values)\n",
    "y = np.array(book_data.y.values)"
   ]
  },
  {
   "cell_type": "markdown",
   "metadata": {},
   "source": [
    "\n",
    "**Отмасштабируем столбцы матрицы *X*, вычтя из каждого значения среднее по соответствующему столбцу и поделив результат на стандартное отклонение.**"
   ]
  },
  {
   "cell_type": "code",
   "execution_count": 5,
   "metadata": {},
   "outputs": [],
   "source": [
    "means, stds = np.mean(X, axis=0), np.std(X, axis=0)"
   ]
  },
  {
   "cell_type": "code",
   "execution_count": 6,
   "metadata": {},
   "outputs": [],
   "source": [
    "\n",
    "for i in range (X.shape[0]):\n",
    "    for j in range (X.shape[1]):\n",
    "        X[i, j] = (X[i, j] - means[j])/stds[j]"
   ]
  },
  {
   "cell_type": "markdown",
   "metadata": {},
   "source": [
    "**Напишем функцию mserror - среднеквадратичную ошибку прогноза. Она принимает два аргумента - y (значения целевого признака) и y_pred (предсказанные значения). **"
   ]
  },
  {
   "cell_type": "code",
   "execution_count": 7,
   "metadata": {},
   "outputs": [],
   "source": [
    "def mserror(y, y_pred):\n",
    "    s = 0\n",
    "    for i in range(len(y)):\n",
    "        s += (y_pred[i] - y[i]) ** 2\n",
    "    return s/y.shape[0]"
   ]
  },
  {
   "cell_type": "code",
   "execution_count": 8,
   "metadata": {},
   "outputs": [],
   "source": [
    "X0, X0_test, y0, y0_test = model_selection.train_test_split(X, y, test_size = 0.3)"
   ]
  },
  {
   "cell_type": "markdown",
   "metadata": {},
   "source": [
    "## Линейная регрессия"
   ]
  },
  {
   "cell_type": "markdown",
   "metadata": {},
   "source": [
    "Линейная регрессия - один из наиболее хорошо изученных методов машинного обучения, позволяющий прогнозировать значения количественного признака в виде линейной комбинации прочих признаков с параметрами - весами модели. Оптимальные (в смысле минимальности некоторого функционала ошибки) параметры линейной регрессии можно найти аналитически с помощью нормального уравнения или численно с помощью методов оптимизации."
   ]
  },
  {
   "cell_type": "markdown",
   "metadata": {},
   "source": [
    "\n",
    "Линейная регрессия использует простой функционал качества - среднеквадратичную ошибку. Мы будем работать с выборкой, содержащей 10 признаков. Для настройки параметров (весов) модели решается следующая задача:\n",
    "$$\\Large \\frac{1}{\\ell}\\sum_{i=1}^\\ell{{((w_0 + w_1x_{i1} + w_2x_{i2} + ... +  w_10x_{i10}) - y_i)}^2} \\rightarrow \\min_{w_0, w_1, w_2...w_(10)},$$\n",
    "где $x_{i1}, x_{i2}...x_{i10}$ - значения признаков $i$-го объекта, $y_i$ - значение целевого признака $i$-го объекта, $\\ell$ - число объектов в обучающей выборке."
   ]
  },
  {
   "cell_type": "markdown",
   "metadata": {},
   "source": [
    "### Нормальное уравнение \n",
    "Нахождение вектора оптимальных весов $w$ может быть сделано и аналитически.\n",
    "Мы хотим найти такой вектор весов $w$, чтобы вектор $y$, приближающий целевой признак, получался умножением матрицы $X$ (состоящей из всех признаков объектов обучающей выборки, кроме целевого) на вектор весов $w$. То есть, чтобы выполнялось матричное уравнение:\n",
    "$$\\Large y = Xw$$\n",
    "Домножением слева на $X^T$ получаем:\n",
    "$$\\Large X^Ty = X^TXw$$\n",
    "Это хорошо, поскольку теперь матрица $X^TX$ - квадратная, и можно найти решение (вектор $w$) в виде:\n",
    "$$\\Large w = {(X^TX)}^{-1}X^Ty$$\n",
    "Матрица ${(X^TX)}^{-1}X^T$ - [*псевдообратная*](https://ru.wikipedia.org/wiki/Псевдообратная_матрица) для матрицы $X$. В NumPy такую матрицу можно вычислить с помощью функции [numpy.linalg.pinv](http://docs.scipy.org/doc/numpy-1.10.0/reference/generated/numpy.linalg.pinv.html).\n",
    "\n",
    "Однако, нахождение псевдообратной матрицы - операция вычислительно сложная и нестабильная в случае малого определителя матрицы $X$ (проблема мультиколлинеарности). \n",
    "На практике лучше находить вектор весов $w$ решением матричного уравнения \n",
    "$$\\Large X^TXw = X^Ty$$Это может быть сделано с помощью функции [numpy.linalg.solve](http://docs.scipy.org/doc/numpy-1.10.1/reference/generated/numpy.linalg.solve.html).\n",
    "\n",
    "Но все же на практике для больших матриц $X$ быстрее работает градиентный спуск, особенно его стохастическая версия."
   ]
  },
  {
   "cell_type": "markdown",
   "metadata": {},
   "source": [
    "\n",
    "**Добавим к матрице X столбец из единиц, используя методы hstack, ones и reshape библиотеки NumPy. Вектор из единиц нужен для того, чтобы не обрабатывать отдельно коэффициент  w0\n",
    "  линейной регрессии.**"
   ]
  },
  {
   "cell_type": "code",
   "execution_count": 9,
   "metadata": {},
   "outputs": [],
   "source": [
    "a = np.ones(X0.shape[0])\n",
    "b = a.reshape(X0.shape[0], 1)\n",
    "X1 = np.hstack((b, X0))"
   ]
  },
  {
   "cell_type": "code",
   "execution_count": 10,
   "metadata": {},
   "outputs": [],
   "source": [
    "c = np.ones(X0_test.shape[0])\n",
    "d = c.reshape(X0_test.shape[0], 1)\n",
    "X1_test = np.hstack((d, X0_test))"
   ]
  },
  {
   "cell_type": "markdown",
   "metadata": {},
   "source": [
    "\n",
    "**Реализуем функцию *normal_equation*, которая по заданным матрицам (массивам NumPy) *X* и *y* вычисляет вектор весов $w$ согласно нормальному уравнению линейной регрессии.**"
   ]
  },
  {
   "cell_type": "code",
   "execution_count": 11,
   "metadata": {},
   "outputs": [],
   "source": [
    "def normal_equation(X, y):\n",
    "    return np.dot(np.linalg.pinv(X), y)"
   ]
  },
  {
   "cell_type": "code",
   "execution_count": 12,
   "metadata": {},
   "outputs": [],
   "source": [
    "norm_eq_weights = normal_equation(X1, y0)"
   ]
  },
  {
   "cell_type": "markdown",
   "metadata": {},
   "source": [
    "**Напишем функцию linear_prediction, которая принимает на вход матрицу X и вектор весов линейной модели w, а возвращает вектор прогнозов в виде линейной комбинации столбцов матрицы X с весами w.**"
   ]
  },
  {
   "cell_type": "code",
   "execution_count": 13,
   "metadata": {},
   "outputs": [],
   "source": [
    "def linear_prediction(X, w):\n",
    "    y = np.array([0.] * X.shape[0])\n",
    "    for i in range (X.shape[0]):\n",
    "        y[i] = X[i, 0] * w[0] + X[i, 1] * w[1] + X[i, 2] * w[2] + X[i, 3] * w[3] + X[i, 4] * w[4] + X[i, 5] * w[5] + X[i, 6] * w[6] + X[i, 7] * w[7] + X[i, 8] * w[8] + X[i, 9] * w[9] + X[i, 10] * w[10]\n",
    "    return y"
   ]
  },
  {
   "cell_type": "code",
   "execution_count": 14,
   "metadata": {},
   "outputs": [],
   "source": [
    "y1 = linear_prediction(X1_test, norm_eq_weights)"
   ]
  },
  {
   "cell_type": "code",
   "execution_count": 15,
   "metadata": {},
   "outputs": [],
   "source": [
    "answer1 = mserror(y0_test, y1)"
   ]
  },
  {
   "cell_type": "code",
   "execution_count": 16,
   "metadata": {},
   "outputs": [],
   "source": [
    "means2, stds2 = np.mean(X0, axis=0), np.std(X0, axis=0)"
   ]
  },
  {
   "cell_type": "code",
   "execution_count": 17,
   "metadata": {},
   "outputs": [
    {
     "data": {
      "text/plain": [
       "GaussianNB(priors=None)"
      ]
     },
     "execution_count": 17,
     "metadata": {},
     "output_type": "execute_result"
    }
   ],
   "source": [
    "model2 = GaussianNB()\n",
    "model2.fit(X0, y0)"
   ]
  },
  {
   "cell_type": "code",
   "execution_count": 18,
   "metadata": {},
   "outputs": [],
   "source": [
    "y2 = model2.predict(X0_test)"
   ]
  },
  {
   "cell_type": "code",
   "execution_count": 19,
   "metadata": {},
   "outputs": [],
   "source": [
    "answer2 = mserror(y0_test, y2)"
   ]
  },
  {
   "cell_type": "code",
   "execution_count": 20,
   "metadata": {},
   "outputs": [],
   "source": [
    "model3 = Sequential()\n",
    "model3.add(Dense(128, activation='relu', input_shape=(X0.shape[1],)))\n",
    "model3.add(Dense(1))\n",
    "model3.compile(optimizer='adam', loss='mse', metrics=['mae'])"
   ]
  },
  {
   "cell_type": "code",
   "execution_count": 21,
   "metadata": {},
   "outputs": [
    {
     "data": {
      "text/plain": [
       "<keras.callbacks.History at 0x1ffca90f358>"
      ]
     },
     "execution_count": 21,
     "metadata": {},
     "output_type": "execute_result"
    }
   ],
   "source": [
    "model3.fit(X0, y0, epochs=1000, batch_size=5, verbose=0)"
   ]
  },
  {
   "cell_type": "code",
   "execution_count": 22,
   "metadata": {},
   "outputs": [],
   "source": [
    "y3 = model3.predict(X0_test)"
   ]
  },
  {
   "cell_type": "code",
   "execution_count": 23,
   "metadata": {},
   "outputs": [],
   "source": [
    "y3 = y3.reshape(len(y3),)"
   ]
  },
  {
   "cell_type": "code",
   "execution_count": 24,
   "metadata": {},
   "outputs": [],
   "source": [
    "answer3 = mserror(y0_test, y3)"
   ]
  },
  {
   "cell_type": "code",
   "execution_count": 25,
   "metadata": {},
   "outputs": [
    {
     "data": {
      "text/plain": [
       "XGBClassifier(base_score=0.5, booster='gbtree', colsample_bylevel=1,\n",
       "       colsample_bytree=1, gamma=0, learning_rate=0.1, max_delta_step=0,\n",
       "       max_depth=3, min_child_weight=1, missing=None, n_estimators=100,\n",
       "       n_jobs=1, nthread=None, objective='multi:softprob', random_state=0,\n",
       "       reg_alpha=0, reg_lambda=1, scale_pos_weight=1, seed=None,\n",
       "       silent=True, subsample=1)"
      ]
     },
     "execution_count": 25,
     "metadata": {},
     "output_type": "execute_result"
    }
   ],
   "source": [
    "model4 = xgboost.XGBClassifier(n_estimators=100)\n",
    "model4.fit(X0, y0)"
   ]
  },
  {
   "cell_type": "code",
   "execution_count": 26,
   "metadata": {},
   "outputs": [
    {
     "name": "stderr",
     "output_type": "stream",
     "text": [
      "C:\\Users\\mvideo\\Snapshots\\lib\\site-packages\\sklearn\\preprocessing\\label.py:151: DeprecationWarning: The truth value of an empty array is ambiguous. Returning False, but in future this will result in an error. Use `array.size > 0` to check that an array is not empty.\n",
      "  if diff:\n"
     ]
    }
   ],
   "source": [
    "y4 = model4.predict(X0_test)"
   ]
  },
  {
   "cell_type": "code",
   "execution_count": 27,
   "metadata": {},
   "outputs": [],
   "source": [
    "answer4 = mserror(y0_test, y4)"
   ]
  },
  {
   "cell_type": "code",
   "execution_count": 28,
   "metadata": {},
   "outputs": [],
   "source": [
    "S1 = pd.Series(y0_test)\n",
    "S1_pred = pd.Series(y1)\n",
    "S2_pred = pd.Series(y2)\n",
    "S3_pred = pd.Series(y3)\n",
    "S4_pred = pd.Series(y4)\n",
    "D = pd.DataFrame({'Реальные данные': S1, 'Линейная регрессия': S1_pred, 'Наивный байесовский алгоритм': S2_pred, 'TensorFlow': S3_pred, 'Xgboost': S4_pred})"
   ]
  },
  {
   "cell_type": "code",
   "execution_count": 29,
   "metadata": {},
   "outputs": [
    {
     "data": {
      "text/html": [
       "<div>\n",
       "<style scoped>\n",
       "    .dataframe tbody tr th:only-of-type {\n",
       "        vertical-align: middle;\n",
       "    }\n",
       "\n",
       "    .dataframe tbody tr th {\n",
       "        vertical-align: top;\n",
       "    }\n",
       "\n",
       "    .dataframe thead th {\n",
       "        text-align: right;\n",
       "    }\n",
       "</style>\n",
       "<table border=\"1\" class=\"dataframe\">\n",
       "  <thead>\n",
       "    <tr style=\"text-align: right;\">\n",
       "      <th></th>\n",
       "      <th>TensorFlow</th>\n",
       "      <th>Xgboost</th>\n",
       "      <th>Линейная регрессия</th>\n",
       "      <th>Наивный байесовский алгоритм</th>\n",
       "      <th>Реальные данные</th>\n",
       "    </tr>\n",
       "  </thead>\n",
       "  <tbody>\n",
       "    <tr>\n",
       "      <th>0</th>\n",
       "      <td>169.829071</td>\n",
       "      <td>-66</td>\n",
       "      <td>159.413746</td>\n",
       "      <td>154</td>\n",
       "      <td>158</td>\n",
       "    </tr>\n",
       "    <tr>\n",
       "      <th>1</th>\n",
       "      <td>71.017082</td>\n",
       "      <td>-66</td>\n",
       "      <td>62.609127</td>\n",
       "      <td>63</td>\n",
       "      <td>63</td>\n",
       "    </tr>\n",
       "    <tr>\n",
       "      <th>2</th>\n",
       "      <td>119.560646</td>\n",
       "      <td>-66</td>\n",
       "      <td>149.674479</td>\n",
       "      <td>154</td>\n",
       "      <td>150</td>\n",
       "    </tr>\n",
       "    <tr>\n",
       "      <th>3</th>\n",
       "      <td>49.418922</td>\n",
       "      <td>-66</td>\n",
       "      <td>69.322030</td>\n",
       "      <td>60</td>\n",
       "      <td>69</td>\n",
       "    </tr>\n",
       "    <tr>\n",
       "      <th>4</th>\n",
       "      <td>207.903137</td>\n",
       "      <td>-66</td>\n",
       "      <td>140.258388</td>\n",
       "      <td>125</td>\n",
       "      <td>142</td>\n",
       "    </tr>\n",
       "    <tr>\n",
       "      <th>5</th>\n",
       "      <td>114.594856</td>\n",
       "      <td>-66</td>\n",
       "      <td>148.823062</td>\n",
       "      <td>103</td>\n",
       "      <td>147</td>\n",
       "    </tr>\n",
       "    <tr>\n",
       "      <th>6</th>\n",
       "      <td>-26.313738</td>\n",
       "      <td>-66</td>\n",
       "      <td>46.952522</td>\n",
       "      <td>-66</td>\n",
       "      <td>46</td>\n",
       "    </tr>\n",
       "    <tr>\n",
       "      <th>7</th>\n",
       "      <td>161.164337</td>\n",
       "      <td>-66</td>\n",
       "      <td>146.313510</td>\n",
       "      <td>186</td>\n",
       "      <td>144</td>\n",
       "    </tr>\n",
       "    <tr>\n",
       "      <th>8</th>\n",
       "      <td>110.932571</td>\n",
       "      <td>-66</td>\n",
       "      <td>131.117598</td>\n",
       "      <td>154</td>\n",
       "      <td>130</td>\n",
       "    </tr>\n",
       "    <tr>\n",
       "      <th>9</th>\n",
       "      <td>59.918991</td>\n",
       "      <td>-66</td>\n",
       "      <td>67.218873</td>\n",
       "      <td>88</td>\n",
       "      <td>67</td>\n",
       "    </tr>\n",
       "    <tr>\n",
       "      <th>10</th>\n",
       "      <td>136.994476</td>\n",
       "      <td>-66</td>\n",
       "      <td>144.624170</td>\n",
       "      <td>141</td>\n",
       "      <td>147</td>\n",
       "    </tr>\n",
       "  </tbody>\n",
       "</table>\n",
       "</div>"
      ],
      "text/plain": [
       "    TensorFlow  Xgboost  Линейная регрессия  Наивный байесовский алгоритм  \\\n",
       "0   169.829071      -66          159.413746                           154   \n",
       "1    71.017082      -66           62.609127                            63   \n",
       "2   119.560646      -66          149.674479                           154   \n",
       "3    49.418922      -66           69.322030                            60   \n",
       "4   207.903137      -66          140.258388                           125   \n",
       "5   114.594856      -66          148.823062                           103   \n",
       "6   -26.313738      -66           46.952522                           -66   \n",
       "7   161.164337      -66          146.313510                           186   \n",
       "8   110.932571      -66          131.117598                           154   \n",
       "9    59.918991      -66           67.218873                            88   \n",
       "10  136.994476      -66          144.624170                           141   \n",
       "\n",
       "    Реальные данные  \n",
       "0               158  \n",
       "1                63  \n",
       "2               150  \n",
       "3                69  \n",
       "4               142  \n",
       "5               147  \n",
       "6                46  \n",
       "7               144  \n",
       "8               130  \n",
       "9                67  \n",
       "10              147  "
      ]
     },
     "execution_count": 29,
     "metadata": {},
     "output_type": "execute_result"
    }
   ],
   "source": [
    "D"
   ]
  },
  {
   "cell_type": "code",
   "execution_count": 30,
   "metadata": {},
   "outputs": [
    {
     "data": {
      "image/png": "[encoded data removed]",
      "text/plain": [
       "<Figure size 1080x1080 with 1 Axes>"
      ]
     },
     "metadata": {},
     "output_type": "display_data"
    }
   ],
   "source": [
    "x = np.arange(y0_test.shape[0])\n",
    "plt.rcParams[\"figure.figsize\"] = (15,15)\n",
    "fig, ax = plt.subplots()\n",
    "ax.plot(x, y0_test, label='Реальные данные')\n",
    "ax.plot(x, y1, '--', label='Линейная регрессия')\n",
    "ax.plot(x, y2, '--', label='Наивный байесовский алгоритм')\n",
    "ax.plot(x, y3, '--', label='TensorFlow')\n",
    "ax.plot(x, y4, '--', label='Xgboost')\n",
    "ax.set_xlabel('Месяцы', fontsize=18)\n",
    "ax.set_ylabel('Чистая прибыль', fontsize=18)\n",
    "ax.set_title('Сравнение алгоритмов')\n",
    "ax.legend(loc=2); # upper left corner"
   ]
  },
  {
   "cell_type": "code",
   "execution_count": 31,
   "metadata": {},
   "outputs": [],
   "source": [
    "print('Среднеквадратичная ошибка прогноза:')"
   ]
  },
  {
   "cell_type": "code",
   "execution_count": 32,
   "metadata": {},
   "outputs": [
    {
     "name": "stdout",
     "output_type": "stream",
     "text": [
      "Среднеквадратичная ошибка прогноза:\n"
     ]
    }
   ],
   "source": [
    "S1_er = pd.Series(answer1)\n",
    "S2_er = pd.Series(answer2)\n",
    "S3_er = pd.Series(answer3)\n",
    "S4_er = pd.Series(answer4)\n",
    "Der = pd.DataFrame({'Линейная регрессия': S1_er, 'Наивный байесовский алгоритм': S2_er, 'TensorFlow': S3_er, 'Xgboost': S4_er})"
   ]
  },
  {
   "cell_type": "code",
   "execution_count": 33,
   "metadata": {},
   "outputs": [
    {
     "data": {
      "text/html": [
       "<div>\n",
       "<style scoped>\n",
       "    .dataframe tbody tr th:only-of-type {\n",
       "        vertical-align: middle;\n",
       "    }\n",
       "\n",
       "    .dataframe tbody tr th {\n",
       "        vertical-align: top;\n",
       "    }\n",
       "\n",
       "    .dataframe thead th {\n",
       "        text-align: right;\n",
       "    }\n",
       "</style>\n",
       "<table border=\"1\" class=\"dataframe\">\n",
       "  <thead>\n",
       "    <tr style=\"text-align: right;\">\n",
       "      <th></th>\n",
       "      <th>TensorFlow</th>\n",
       "      <th>Xgboost</th>\n",
       "      <th>Линейная регрессия</th>\n",
       "      <th>Наивный байесовский алгоритм</th>\n",
       "    </tr>\n",
       "  </thead>\n",
       "  <tbody>\n",
       "    <tr>\n",
       "      <th>0</th>\n",
       "      <td>1176.83631</td>\n",
       "      <td>34404.454545</td>\n",
       "      <td>1.992638</td>\n",
       "      <td>1609.0</td>\n",
       "    </tr>\n",
       "  </tbody>\n",
       "</table>\n",
       "</div>"
      ],
      "text/plain": [
       "   TensorFlow       Xgboost  Линейная регрессия  Наивный байесовский алгоритм\n",
       "0  1176.83631  34404.454545            1.992638                        1609.0"
      ]
     },
     "execution_count": 33,
     "metadata": {},
     "output_type": "execute_result"
    }
   ],
   "source": [
    "Der"
   ]
  },
  {
   "cell_type": "code",
   "execution_count": 34,
   "metadata": {},
   "outputs": [
    {
     "name": "stdout",
     "output_type": "stream",
     "text": [
      "Веса для линейной регрессии:\n"
     ]
    }
   ],
   "source": [
    "print('Веса для линейной регрессии:')"
   ]
  },
  {
   "cell_type": "code",
   "execution_count": 35,
   "metadata": {},
   "outputs": [],
   "source": [
    "w = norm_eq_weights"
   ]
  },
  {
   "cell_type": "code",
   "execution_count": 36,
   "metadata": {},
   "outputs": [
    {
     "name": "stdout",
     "output_type": "stream",
     "text": [
      "116.51 + 77.24*X1 + -111.29*X2 + 198.00*X3 + -266.86*X4 + -38.98*X5 + 29.05*X6 + -17.36*X7 + 0.02*X8 + -0.62*X9 + -0.21*X10\n"
     ]
    }
   ],
   "source": [
    "print(\"%.2f + %.2f*X1 + %.2f*X2 + %.2f*X3 + %.2f*X4 + %.2f*X5 + %.2f*X6 + %.2f*X7 + %.2f*X8 + %.2f*X9 + %.2f*X10\" % (w[0], w[1], w[2], w[3], w[4], w[5], w[6], w[7], w[8], w[9], w[10]))"
   ]
  },
  {
   "cell_type": "code",
   "execution_count": 37,
   "metadata": {},
   "outputs": [
    {
     "name": "stdout",
     "output_type": "stream",
     "text": [
      "Введите данные для прогноза:\n"
     ]
    }
   ],
   "source": [
    "print('Введите данные для прогноза:')"
   ]
  },
  {
   "cell_type": "code",
   "execution_count": 38,
   "metadata": {},
   "outputs": [
    {
     "name": "stdout",
     "output_type": "stream",
     "text": [
      "X1: \n"
     ]
    },
    {
     "ename": "ValueError",
     "evalue": "could not convert string to float: ",
     "output_type": "error",
     "traceback": [
      "\u001b[1;31m---------------------------------------------------------------------------\u001b[0m",
      "\u001b[1;31mValueError\u001b[0m                                Traceback (most recent call last)",
      "\u001b[1;32m<ipython-input-38-4c8e84eb2bc2>\u001b[0m in \u001b[0;36m<module>\u001b[1;34m()\u001b[0m\n\u001b[1;32m----> 1\u001b[1;33m \u001b[0mp1\u001b[0m \u001b[1;33m=\u001b[0m \u001b[0mfloat\u001b[0m\u001b[1;33m(\u001b[0m\u001b[0minput\u001b[0m\u001b[1;33m(\u001b[0m\u001b[1;34m'X1: '\u001b[0m\u001b[1;33m)\u001b[0m\u001b[1;33m)\u001b[0m\u001b[1;33m\u001b[0m\u001b[0m\n\u001b[0m\u001b[0;32m      2\u001b[0m \u001b[0mp2\u001b[0m \u001b[1;33m=\u001b[0m \u001b[0mfloat\u001b[0m\u001b[1;33m(\u001b[0m\u001b[0minput\u001b[0m\u001b[1;33m(\u001b[0m\u001b[1;34m'X2: '\u001b[0m\u001b[1;33m)\u001b[0m\u001b[1;33m)\u001b[0m\u001b[1;33m\u001b[0m\u001b[0m\n\u001b[0;32m      3\u001b[0m \u001b[0mp3\u001b[0m \u001b[1;33m=\u001b[0m \u001b[0mfloat\u001b[0m\u001b[1;33m(\u001b[0m\u001b[0minput\u001b[0m\u001b[1;33m(\u001b[0m\u001b[1;34m'X3: '\u001b[0m\u001b[1;33m)\u001b[0m\u001b[1;33m)\u001b[0m\u001b[1;33m\u001b[0m\u001b[0m\n\u001b[0;32m      4\u001b[0m \u001b[0mp4\u001b[0m \u001b[1;33m=\u001b[0m \u001b[0mfloat\u001b[0m\u001b[1;33m(\u001b[0m\u001b[0minput\u001b[0m\u001b[1;33m(\u001b[0m\u001b[1;34m'X4: '\u001b[0m\u001b[1;33m)\u001b[0m\u001b[1;33m)\u001b[0m\u001b[1;33m\u001b[0m\u001b[0m\n\u001b[0;32m      5\u001b[0m \u001b[0mp5\u001b[0m \u001b[1;33m=\u001b[0m \u001b[0mfloat\u001b[0m\u001b[1;33m(\u001b[0m\u001b[0minput\u001b[0m\u001b[1;33m(\u001b[0m\u001b[1;34m'X5: '\u001b[0m\u001b[1;33m)\u001b[0m\u001b[1;33m)\u001b[0m\u001b[1;33m\u001b[0m\u001b[0m\n",
      "\u001b[1;31mValueError\u001b[0m: could not convert string to float: "
     ]
    }
   ],
   "source": [
    "p1 = float(input('X1: '))\n",
    "p2 = float(input('X2: '))\n",
    "p3 = float(input('X3: '))\n",
    "p4 = float(input('X4: '))\n",
    "p5 = float(input('X5: '))\n",
    "p6 = float(input('X6: '))\n",
    "p7 = float(input('X7: '))\n",
    "p8 = float(input('X8: '))\n",
    "p9 = float(input('X9: '))\n",
    "p10 = float(input('X10: '))"
   ]
  },
  {
   "cell_type": "code",
   "execution_count": null,
   "metadata": {},
   "outputs": [],
   "source": [
    "prog = np.array([p1, p2, p3, p4, p5, p6, p7, p8, p9, p10])"
   ]
  },
  {
   "cell_type": "code",
   "execution_count": null,
   "metadata": {},
   "outputs": [],
   "source": [
    "for i in range (prog.shape[0]):\n",
    "    prog[i] = (prog[i] - means[i])/stds[i]"
   ]
  },
  {
   "cell_type": "code",
   "execution_count": 445,
   "metadata": {},
   "outputs": [],
   "source": [
    "prog0 = np.array([prog])"
   ]
  },
  {
   "cell_type": "code",
   "execution_count": 446,
   "metadata": {},
   "outputs": [],
   "source": [
    "def linear_prediction2(X, w):\n",
    "    y = np.array([0.])\n",
    "    print(y)\n",
    "    y = w[0] + X[0] * w[1] + X[1] * w[2] + X[2] * w[3] + X[3] * w[4] + X[4] * w[5] + X[5] * w[6] + X[6] * w[7] + X[7] * w[8] + X[8] * w[9] + X[9] * w[10]\n",
    "    return y"
   ]
  },
  {
   "cell_type": "code",
   "execution_count": 447,
   "metadata": {},
   "outputs": [
    {
     "name": "stdout",
     "output_type": "stream",
     "text": [
      "[ 0.]\n"
     ]
    }
   ],
   "source": [
    "prog1 = linear_prediction2(prog, norm_eq_weights)\n",
    "prog2 = model2.predict([prog])\n",
    "prog3 = model3.predict(prog0)\n",
    "prog4 = model4.predict([prog])"
   ]
  },
  {
   "cell_type": "code",
   "execution_count": 448,
   "metadata": {},
   "outputs": [
    {
     "name": "stdout",
     "output_type": "stream",
     "text": [
      "Прогноз чистой прибыли:\n"
     ]
    }
   ],
   "source": [
    "print('Прогноз чистой прибыли:')"
   ]
  },
  {
   "cell_type": "code",
   "execution_count": 449,
   "metadata": {},
   "outputs": [],
   "source": [
    "S1_prog = pd.Series(prog1)\n",
    "S2_prog = pd.Series(prog2)\n",
    "S3_prog = pd.Series(prog3[0])\n",
    "S4_prog = pd.Series(prog4)\n",
    "D2 = pd.DataFrame({'Линейная регрессия': S1_prog, 'Наивный байесовский алгоритм': S2_prog, 'TensorFlow': S3_prog, 'Xgboost': S4_prog})"
   ]
  },
  {
   "cell_type": "code",
   "execution_count": 450,
   "metadata": {},
   "outputs": [
    {
     "data": {
      "text/html": [
       "<div>\n",
       "<style>\n",
       "    .dataframe thead tr:only-child th {\n",
       "        text-align: right;\n",
       "    }\n",
       "\n",
       "    .dataframe thead th {\n",
       "        text-align: left;\n",
       "    }\n",
       "\n",
       "    .dataframe tbody tr th {\n",
       "        vertical-align: top;\n",
       "    }\n",
       "</style>\n",
       "<table border=\"1\" class=\"dataframe\">\n",
       "  <thead>\n",
       "    <tr style=\"text-align: right;\">\n",
       "      <th></th>\n",
       "      <th>TensorFlow</th>\n",
       "      <th>Xgboost</th>\n",
       "      <th>Линейная регрессия</th>\n",
       "      <th>Наивный байесовский алгоритм</th>\n",
       "    </tr>\n",
       "  </thead>\n",
       "  <tbody>\n",
       "    <tr>\n",
       "      <th>0</th>\n",
       "      <td>99.34536</td>\n",
       "      <td>78.0</td>\n",
       "      <td>-1.33044</td>\n",
       "      <td>147.0</td>\n",
       "    </tr>\n",
       "  </tbody>\n",
       "</table>\n",
       "</div>"
      ],
      "text/plain": [
       "   TensorFlow  Xgboost  Линейная регрессия  Наивный байесовский алгоритм\n",
       "0    99.34536     78.0            -1.33044                         147.0"
      ]
     },
     "execution_count": 450,
     "metadata": {},
     "output_type": "execute_result"
    }
   ],
   "source": [
    "D2"
   ]
  },
  {
   "cell_type": "code",
   "execution_count": 451,
   "metadata": {},
   "outputs": [
    {
     "data": {
      "text/plain": [
       "<matplotlib.text.Text at 0x1a2e0caf28>"
      ]
     },
     "execution_count": 451,
     "metadata": {},
     "output_type": "execute_result"
    },
    {
     "data": {
      "image/png": "[encoded data removed]",
      "text/plain": [
       "<matplotlib.figure.Figure at 0x1a2e90a940>"
      ]
     },
     "metadata": {},
     "output_type": "display_data"
    }
   ],
   "source": [
    "progs = [S1_prog[0], S2_prog[0], S3_prog[0], S4_prog[0]]\n",
    "fig, ax = plt.subplots()\n",
    "ind = np.arange(1, 5)\n",
    "pm, pc, pn, pb = plt.bar(ind, progs)\n",
    "\n",
    "ax.set_xticks(ind)\n",
    "ax.set_xticklabels(['Линейная регрессия', 'Наивный байесовский алгоритм', 'TensorFlow', 'Xgboost'])\n",
    "ax.set_ylim([min(progs) - 20, max(progs) + 20])\n",
    "ax.set_ylabel('Чистая прибыль')\n",
    "ax.set_title('Прогноз чистой прибыли')"
   ]
  },
  {
   "cell_type": "code",
   "execution_count": 452,
   "metadata": {},
   "outputs": [
    {
     "data": {
      "text/plain": [
       "<matplotlib.text.Text at 0x1a2b244438>"
      ]
     },
     "execution_count": 452,
     "metadata": {},
     "output_type": "execute_result"
    },
    {
     "data": {
      "image/png": "[encoded data removed]",
      "text/plain": [
       "<matplotlib.figure.Figure at 0x1a2e5cca58>"
      ]
     },
     "metadata": {},
     "output_type": "display_data"
    }
   ],
   "source": [
    "w = norm_eq_weights\n",
    "ws = [w[0], w[1], w[2], w[3], w[4], w[5], w[6], w[7], w[8], w[9], w[10]]\n",
    "fig, ax = plt.subplots()\n",
    "ind = np.arange(1, len(ws) + 1)\n",
    "w0, w1, w2, w3, w4, w5, w6, w7, w8, w9, w10 = plt.bar(ind, ws)\n",
    "\n",
    "ax.set_xticks(ind)\n",
    "ax.set_xticklabels(['', '', '', ''])\n",
    "ax.set_ylim([min(norm_eq_weights) - 20, max(norm_eq_weights) + 20])\n",
    "ax.set_ylabel('Веса')\n",
    "ax.set_title('Веса модели линейной регрессии')"
   ]
  },
  {
   "cell_type": "code",
   "execution_count": 453,
   "metadata": {},
   "outputs": [
    {
     "data": {
      "text/plain": [
       "array([  1.19314286e+02,   7.63009876e+01,  -1.14401399e+02,\n",
       "         1.95744065e+02,  -2.66055777e+02,  -3.29211798e+01,\n",
       "         3.09916908e+01,  -1.62436550e+01,  -1.27897692e-13,\n",
       "        -2.84217094e-14,  -9.94759830e-14])"
      ]
     },
     "execution_count": 453,
     "metadata": {},
     "output_type": "execute_result"
    }
   ],
   "source": [
    "norm_eq_weights"
   ]
  },
  {
   "cell_type": "code",
   "execution_count": null,
   "metadata": {},
   "outputs": [],
   "source": []
  }
 ],
 "metadata": {
  "kernelspec": {
   "display_name": "Python 3",
   "language": "python",
   "name": "python3"
  },
  "language_info": {
   "codemirror_mode": {
    "name": "ipython",
    "version": 3
   },
   "file_extension": ".py",
   "mimetype": "text/x-python",
   "name": "python",
   "nbconvert_exporter": "python",
   "pygments_lexer": "ipython3",
   "version": "3.6.4"
  }
 },
 "nbformat": 4,
 "nbformat_minor": 2
}
